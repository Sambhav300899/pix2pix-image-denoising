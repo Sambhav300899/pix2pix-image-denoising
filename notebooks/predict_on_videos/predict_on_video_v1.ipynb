{
 "cells": [
  {
   "cell_type": "code",
   "execution_count": null,
   "id": "e4cc1b0a-7c35-4049-9145-fae6c6b6c104",
   "metadata": {},
   "outputs": [],
   "source": [
    "%load_ext autoreload\n",
    "%autoreload 2"
   ]
  },
  {
   "cell_type": "code",
   "execution_count": null,
   "id": "f7f2a26a-33b3-4fc6-9b56-6876363cf814",
   "metadata": {},
   "outputs": [],
   "source": [
    "import torch\n",
    "import os\n",
    "import pix2pix\n",
    "import cv2\n",
    "import matplotlib.pyplot as plt\n",
    "from pix2pix import models\n",
    "import tqdm\n",
    "from pix2pix import config"
   ]
  },
  {
   "cell_type": "code",
   "execution_count": null,
   "id": "8fa711cd-bac8-4a9b-9cfa-a75b900aae00",
   "metadata": {},
   "outputs": [],
   "source": [
    "gt_path = 'videos/input_video_gt.mp4'\n",
    "noisy_path = 'videos/input_video_noisy.mp4'\n",
    "pred_save_path = 'videos/predicted_video_v1.mp4'\n",
    "\n",
    "# device = \"cuda\" if torch.cuda.is_available() else \"cpu\"\n",
    "device = 'cpu'"
   ]
  },
  {
   "cell_type": "code",
   "execution_count": null,
   "id": "ad9ca9fe-847d-40e5-8ab1-b8e39796ff3a",
   "metadata": {},
   "outputs": [],
   "source": [
    "state_dict = torch.load('../models/pix2pix_32_11112021_051302/checkpoints/gen_epoch_4_pix2pix_32_11112021_051302.pt')\n",
    "model = models.unet(norm_layer=torch.nn.InstanceNorm2d, **config.model.GEN_ARGS)\n",
    "model = torch.nn.DataParallel(model)\n",
    "model.load_state_dict(state_dict)\n",
    "model.eval();"
   ]
  },
  {
   "cell_type": "code",
   "execution_count": null,
   "id": "d619d35e-5b8d-4b72-96ce-3f7e770c2ad8",
   "metadata": {},
   "outputs": [],
   "source": [
    "%%time \n",
    "\n",
    "noisy_cap = cv2.VideoCapture(noisy_path)\n",
    "fps = noisy_cap.get(cv2.CAP_PROP_FPS)\n",
    "width = int(noisy_cap.get(cv2.CAP_PROP_FRAME_WIDTH))\n",
    "height = int(noisy_cap.get(cv2.CAP_PROP_FRAME_HEIGHT))\n",
    "    \n",
    "frame_list = []\n",
    "\n",
    "while noisy_cap.isOpened():\n",
    "    ret, frame = noisy_cap.read()\n",
    "    \n",
    "    if ret == False:\n",
    "        break\n",
    "        \n",
    "    frame = cv2.resize(frame, (256, 256))\n",
    "    frame_list.append(cv2.cvtColor(frame, cv2.COLOR_BGR2RGB))\n",
    "    \n",
    "noisy_cap.release()\n",
    "\n",
    "fourcc = cv2.VideoWriter_fourcc(*'mp4v') # Be sure to use lower case\n",
    "out = cv2.VideoWriter(pred_save_path, fourcc, fps, (width, height))\n",
    "\n",
    "for image in tqdm.tqdm(frame_list):\n",
    "    inp = torch.Tensor(image).to(device)\n",
    "    inp = (inp / (255 / 2)) - 1\n",
    "    inp = inp.permute((2, 0, 1))\n",
    "    inp = inp.unsqueeze(0)\n",
    "    \n",
    "    pred = model(inp).detach()\n",
    "    pred = (pred + 1) / 2 \n",
    "    pred = pred.squeeze()\n",
    "    pred = pred.permute(1, 2, 0)\n",
    "    pred = pred.to('cpu')\n",
    "    pred = (pred.numpy() * 255).astype('uint8')\n",
    "    pred = cv2.resize(pred, (width, height))\n",
    "    \n",
    "#     cv2.imshow('asdads', pred)\n",
    "#     cv2.waitKey(2)\n",
    "    \n",
    "    out.write(cv2.cvtColor(pred, cv2.COLOR_RGB2BGR))\n",
    "    \n",
    "out.release()"
   ]
  }
 ],
 "metadata": {
  "kernelspec": {
   "display_name": "Python 3",
   "language": "python",
   "name": "python3"
  },
  "language_info": {
   "codemirror_mode": {
    "name": "ipython",
    "version": 3
   },
   "file_extension": ".py",
   "mimetype": "text/x-python",
   "name": "python",
   "nbconvert_exporter": "python",
   "pygments_lexer": "ipython3",
   "version": "3.6.9"
  }
 },
 "nbformat": 4,
 "nbformat_minor": 5
}
