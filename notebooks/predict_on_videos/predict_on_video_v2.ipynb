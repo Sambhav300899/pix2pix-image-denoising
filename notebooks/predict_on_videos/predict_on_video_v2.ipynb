{
 "cells": [
  {
   "cell_type": "code",
   "execution_count": 1,
   "id": "e4cc1b0a-7c35-4049-9145-fae6c6b6c104",
   "metadata": {},
   "outputs": [],
   "source": [
    "%load_ext autoreload\n",
    "%autoreload 2"
   ]
  },
  {
   "cell_type": "code",
   "execution_count": null,
   "id": "f7f2a26a-33b3-4fc6-9b56-6876363cf814",
   "metadata": {},
   "outputs": [],
   "source": [
    "import torch\n",
    "import os\n",
    "import pix2pix\n",
    "import cv2\n",
    "import matplotlib.pyplot as plt\n",
    "from pix2pix import models\n",
    "import tqdm\n",
    "from pix2pix import config"
   ]
  },
  {
   "cell_type": "code",
   "execution_count": null,
   "id": "8fa711cd-bac8-4a9b-9cfa-a75b900aae00",
   "metadata": {},
   "outputs": [],
   "source": [
    "gt_path = 'videos/input_video_gt.mp4'\n",
    "noisy_path = 'videos/input_video_noisy.mp4'\n",
    "pred_save_path = 'videos/predicted_video_v2.mp4'\n",
    "\n",
    "# device = \"cuda\" if torch.cuda.is_available() else \"cpu\"\n",
    "device = 'cpu'"
   ]
  },
  {
   "cell_type": "code",
   "execution_count": null,
   "id": "ad9ca9fe-847d-40e5-8ab1-b8e39796ff3a",
   "metadata": {},
   "outputs": [],
   "source": [
    "state_dict = torch.load('../../models/pix2pix_32_11112021_051302/checkpoints/gen_epoch_4_pix2pix_32_11112021_051302.pt')\n",
    "model = models.unet(norm_layer=torch.nn.InstanceNorm2d, **config.model.GEN_ARGS)\n",
    "model = torch.nn.DataParallel(model)\n",
    "model.load_state_dict(state_dict)\n",
    "model.eval();"
   ]
  },
  {
   "cell_type": "code",
   "execution_count": null,
   "id": "e6bf511b-72a4-49fb-a22b-f058812670bd",
   "metadata": {},
   "outputs": [],
   "source": [
    "class img_dataset(torch.utils.data.Dataset):\n",
    "    def __init__(self, imgs):\n",
    "        self.imgs = imgs\n",
    "\n",
    "    def __len__(self):\n",
    "        return len(self.imgs)\n",
    "\n",
    "    def __getitem__(self, idx):\n",
    "        if torch.is_tensor(idx):\n",
    "            idx = idx.to_list()\n",
    "        \n",
    "        inp = torch.Tensor(self.imgs[idx])\n",
    "        inp = (inp / (255 / 2)) - 1\n",
    "        inp = inp.permute((2, 0, 1))\n",
    "        \n",
    "        return inp"
   ]
  },
  {
   "cell_type": "code",
   "execution_count": 6,
   "id": "d619d35e-5b8d-4b72-96ce-3f7e770c2ad8",
   "metadata": {},
   "outputs": [
    {
     "name": "stderr",
     "output_type": "stream",
     "text": [
      "100%|██████████| 94/94 [00:14<00:00,  6.43it/s]"
     ]
    },
    {
     "name": "stdout",
     "output_type": "stream",
     "text": [
      "CPU times: user 43.7 s, sys: 5.7 s, total: 49.4 s\n",
      "Wall time: 15.4 s\n"
     ]
    },
    {
     "name": "stderr",
     "output_type": "stream",
     "text": [
      "\n"
     ]
    }
   ],
   "source": [
    "%%time\n",
    "\n",
    "noisy_cap = cv2.VideoCapture(noisy_path)\n",
    "fps = noisy_cap.get(cv2.CAP_PROP_FPS)\n",
    "width = int(noisy_cap.get(cv2.CAP_PROP_FRAME_WIDTH))\n",
    "height = int(noisy_cap.get(cv2.CAP_PROP_FRAME_HEIGHT))\n",
    "\n",
    "fourcc = cv2.VideoWriter_fourcc(*'mp4v') # Be sure to use lower case\n",
    "out = cv2.VideoWriter(pred_save_path, fourcc, fps, (width, height))\n",
    "    \n",
    "frame_list = []\n",
    "\n",
    "while noisy_cap.isOpened():\n",
    "    ret, frame = noisy_cap.read()\n",
    "    \n",
    "    if ret == False:\n",
    "        break\n",
    "        \n",
    "    frame = cv2.resize(frame, (256, 256))\n",
    "    frame_list.append(cv2.cvtColor(frame, cv2.COLOR_BGR2RGB))\n",
    "    \n",
    "noisy_cap.release()\n",
    "img_dataloader = torch.utils.data.DataLoader(img_dataset(frame_list), \n",
    "                                             batch_size = 16,\n",
    "                                             shuffle = False)\n",
    "\n",
    "\n",
    "for ip in tqdm.tqdm(img_dataloader, total = len(img_dataloader)):\n",
    "    ip = ip.to(device)\n",
    "    preds = model(ip).detach()\n",
    "    preds = (preds + 1) / 2 \n",
    "    preds = preds.permute(0, 2, 3, 1)\n",
    "    preds = preds.to('cpu')\n",
    "    preds = (preds.numpy() * 255).astype('uint8')\n",
    "    \n",
    "    for i in range(preds.shape[0]):\n",
    "        frame_to_save = cv2.resize(preds[i, :, :, :], (width, height))\n",
    "        out.write(cv2.cvtColor(frame_to_save, cv2.COLOR_RGB2BGR))\n",
    "        \n",
    "out.release()"
   ]
  },
  {
   "cell_type": "code",
   "execution_count": null,
   "id": "db3ce26b-89f8-4097-9656-f5f153d99131",
   "metadata": {},
   "outputs": [],
   "source": []
  }
 ],
 "metadata": {
  "kernelspec": {
   "display_name": "Python 3",
   "language": "python",
   "name": "python3"
  },
  "language_info": {
   "codemirror_mode": {
    "name": "ipython",
    "version": 3
   },
   "file_extension": ".py",
   "mimetype": "text/x-python",
   "name": "python",
   "nbconvert_exporter": "python",
   "pygments_lexer": "ipython3",
   "version": "3.6.9"
  }
 },
 "nbformat": 4,
 "nbformat_minor": 5
}
