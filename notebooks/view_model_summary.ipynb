{
 "cells": [
  {
   "cell_type": "code",
   "execution_count": 12,
   "id": "7f4fad11-71a5-4f0c-8ca2-45c28a17e7f9",
   "metadata": {},
   "outputs": [
    {
     "name": "stdout",
     "output_type": "stream",
     "text": [
      "The autoreload extension is already loaded. To reload it, use:\n",
      "  %reload_ext autoreload\n"
     ]
    }
   ],
   "source": [
    "%load_ext autoreload\n",
    "%autoreload 2"
   ]
  },
  {
   "cell_type": "code",
   "execution_count": 13,
   "id": "dfcd7dd4-01e6-4547-84c3-c25b61c69f27",
   "metadata": {},
   "outputs": [],
   "source": [
    "import sys\n",
    "sys.path.append('../src/pix2pix/')"
   ]
  },
  {
   "cell_type": "code",
   "execution_count": 24,
   "id": "a6a55e53-372e-4633-8110-f75514397af0",
   "metadata": {},
   "outputs": [],
   "source": [
    "import models\n",
    "from torchsummary import summary\n",
    "from torch import nn"
   ]
  },
  {
   "cell_type": "code",
   "execution_count": 26,
   "id": "b6694dbc-ecde-44b1-8332-a3031f04eb05",
   "metadata": {},
   "outputs": [],
   "source": [
    "gen = models.unet(input_nc = 3, output_nc = 3, num_init_filters = 32, norm_layer=nn.BatchNorm2d,\n",
    "        use_dropout=False)\n",
    "disc = models.patchGAN(input_nc = 6)"
   ]
  },
  {
   "cell_type": "code",
   "execution_count": 27,
   "id": "0b6f92a0-040b-4f85-8495-2f95f320d7f5",
   "metadata": {},
   "outputs": [
    {
     "name": "stdout",
     "output_type": "stream",
     "text": [
      "----------------------------------------------------------------\n",
      "        Layer (type)               Output Shape         Param #\n",
      "================================================================\n",
      "            Conv2d-1         [-1, 32, 128, 128]           1,536\n",
      "         LeakyReLU-2         [-1, 32, 128, 128]               0\n",
      "            Conv2d-3           [-1, 64, 64, 64]          32,768\n",
      "       BatchNorm2d-4           [-1, 64, 64, 64]             128\n",
      "         LeakyReLU-5           [-1, 64, 64, 64]               0\n",
      "            Conv2d-6          [-1, 128, 32, 32]         131,072\n",
      "       BatchNorm2d-7          [-1, 128, 32, 32]             256\n",
      "         LeakyReLU-8          [-1, 128, 32, 32]               0\n",
      "            Conv2d-9          [-1, 256, 16, 16]         524,288\n",
      "      BatchNorm2d-10          [-1, 256, 16, 16]             512\n",
      "        LeakyReLU-11          [-1, 256, 16, 16]               0\n",
      "           Conv2d-12            [-1, 256, 8, 8]       1,048,576\n",
      "      BatchNorm2d-13            [-1, 256, 8, 8]             512\n",
      "        LeakyReLU-14            [-1, 256, 8, 8]               0\n",
      "           Conv2d-15            [-1, 256, 4, 4]       1,048,576\n",
      "      BatchNorm2d-16            [-1, 256, 4, 4]             512\n",
      "        LeakyReLU-17            [-1, 256, 4, 4]               0\n",
      "           Conv2d-18            [-1, 256, 2, 2]       1,048,576\n",
      "      BatchNorm2d-19            [-1, 256, 2, 2]             512\n",
      "        LeakyReLU-20            [-1, 256, 2, 2]               0\n",
      "           Conv2d-21            [-1, 256, 1, 1]       1,048,576\n",
      "        LeakyReLU-22            [-1, 256, 1, 1]               0\n",
      "  ConvTranspose2d-23            [-1, 256, 2, 2]       1,048,576\n",
      "      BatchNorm2d-24            [-1, 256, 2, 2]             512\n",
      "unet_skip_connection_block-25            [-1, 512, 2, 2]               0\n",
      "        LeakyReLU-26            [-1, 512, 2, 2]               0\n",
      "  ConvTranspose2d-27            [-1, 256, 4, 4]       2,097,152\n",
      "      BatchNorm2d-28            [-1, 256, 4, 4]             512\n",
      "unet_skip_connection_block-29            [-1, 512, 4, 4]               0\n",
      "        LeakyReLU-30            [-1, 512, 4, 4]               0\n",
      "  ConvTranspose2d-31            [-1, 256, 8, 8]       2,097,152\n",
      "      BatchNorm2d-32            [-1, 256, 8, 8]             512\n",
      "unet_skip_connection_block-33            [-1, 512, 8, 8]               0\n",
      "        LeakyReLU-34            [-1, 512, 8, 8]               0\n",
      "  ConvTranspose2d-35          [-1, 256, 16, 16]       2,097,152\n",
      "      BatchNorm2d-36          [-1, 256, 16, 16]             512\n",
      "unet_skip_connection_block-37          [-1, 512, 16, 16]               0\n",
      "        LeakyReLU-38          [-1, 512, 16, 16]               0\n",
      "  ConvTranspose2d-39          [-1, 128, 32, 32]       1,048,576\n",
      "      BatchNorm2d-40          [-1, 128, 32, 32]             256\n",
      "unet_skip_connection_block-41          [-1, 256, 32, 32]               0\n",
      "        LeakyReLU-42          [-1, 256, 32, 32]               0\n",
      "  ConvTranspose2d-43           [-1, 64, 64, 64]         262,144\n",
      "      BatchNorm2d-44           [-1, 64, 64, 64]             128\n",
      "unet_skip_connection_block-45          [-1, 128, 64, 64]               0\n",
      "        LeakyReLU-46          [-1, 128, 64, 64]               0\n",
      "  ConvTranspose2d-47         [-1, 32, 128, 128]          65,536\n",
      "      BatchNorm2d-48         [-1, 32, 128, 128]              64\n",
      "unet_skip_connection_block-49         [-1, 64, 128, 128]               0\n",
      "        LeakyReLU-50         [-1, 64, 128, 128]               0\n",
      "  ConvTranspose2d-51          [-1, 3, 256, 256]           3,072\n",
      "             Tanh-52          [-1, 3, 256, 256]               0\n",
      "unet_skip_connection_block-53          [-1, 3, 256, 256]               0\n",
      "================================================================\n",
      "Total params: 13,608,256\n",
      "Trainable params: 13,608,256\n",
      "Non-trainable params: 0\n",
      "----------------------------------------------------------------\n",
      "Input size (MB): 0.75\n",
      "Forward/backward pass size (MB): 69.48\n",
      "Params size (MB): 51.91\n",
      "Estimated Total Size (MB): 122.14\n",
      "----------------------------------------------------------------\n"
     ]
    }
   ],
   "source": [
    "summary(gen, (3, 256, 256), device = 'cpu')"
   ]
  },
  {
   "cell_type": "code",
   "execution_count": 28,
   "id": "7a7a50c6-eec0-4d9b-ab71-3880a94a8d58",
   "metadata": {},
   "outputs": [
    {
     "name": "stdout",
     "output_type": "stream",
     "text": [
      "----------------------------------------------------------------\n",
      "        Layer (type)               Output Shape         Param #\n",
      "================================================================\n",
      "            Conv2d-1         [-1, 64, 128, 128]           6,144\n",
      "         LeakyReLU-2         [-1, 64, 128, 128]               0\n",
      "            Conv2d-3          [-1, 128, 64, 64]         131,072\n",
      "         LeakyReLU-4          [-1, 128, 64, 64]               0\n",
      "       BatchNorm2d-5          [-1, 128, 64, 64]             256\n",
      "         LeakyReLU-6          [-1, 128, 64, 64]               0\n",
      "            Conv2d-7          [-1, 256, 32, 32]         524,288\n",
      "         LeakyReLU-8          [-1, 256, 32, 32]               0\n",
      "       BatchNorm2d-9          [-1, 256, 32, 32]             512\n",
      "        LeakyReLU-10          [-1, 256, 32, 32]               0\n",
      "           Conv2d-11          [-1, 512, 31, 31]       2,097,152\n",
      "      BatchNorm2d-12          [-1, 512, 31, 31]           1,024\n",
      "        LeakyReLU-13          [-1, 512, 31, 31]               0\n",
      "           Conv2d-14            [-1, 1, 30, 30]           8,192\n",
      "          Sigmoid-15            [-1, 1, 30, 30]               0\n",
      "================================================================\n",
      "Total params: 2,768,640\n",
      "Trainable params: 2,768,640\n",
      "Non-trainable params: 0\n",
      "----------------------------------------------------------------\n",
      "Input size (MB): 1.50\n",
      "Forward/backward pass size (MB): 51.28\n",
      "Params size (MB): 10.56\n",
      "Estimated Total Size (MB): 63.34\n",
      "----------------------------------------------------------------\n"
     ]
    }
   ],
   "source": [
    "summary(disc, (6, 256, 256), device = 'cpu')"
   ]
  },
  {
   "cell_type": "code",
   "execution_count": null,
   "id": "17e1de42-d9b0-4e72-9a28-72c680c3dada",
   "metadata": {},
   "outputs": [],
   "source": []
  },
  {
   "cell_type": "code",
   "execution_count": null,
   "id": "670a4d4d-d37c-4b46-a9fc-e54755a50fa4",
   "metadata": {},
   "outputs": [],
   "source": []
  }
 ],
 "metadata": {
  "kernelspec": {
   "display_name": "Python 3",
   "language": "python",
   "name": "python3"
  },
  "language_info": {
   "codemirror_mode": {
    "name": "ipython",
    "version": 3
   },
   "file_extension": ".py",
   "mimetype": "text/x-python",
   "name": "python",
   "nbconvert_exporter": "python",
   "pygments_lexer": "ipython3",
   "version": "3.6.9"
  }
 },
 "nbformat": 4,
 "nbformat_minor": 5
}
